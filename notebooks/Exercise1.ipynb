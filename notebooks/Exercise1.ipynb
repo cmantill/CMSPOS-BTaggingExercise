{
 "cells": [
  {
   "cell_type": "markdown",
   "metadata": {},
   "source": [
    "# Exercise 1\n",
    "\n",
    "\n",
    "## Part I - accessing b-tagging discriminators\n",
    "\n",
    "First let's import some useful thigs. For this part we will use __FWLite__, the python bindings to the edm CMSSW classes"
   ]
  },
  {
   "cell_type": "code",
   "execution_count": 1,
   "metadata": {
    "collapsed": false
   },
   "outputs": [
    {
     "data": {
      "application/javascript": [
       "\n",
       "require(['notebook'],\n",
       "  function() {\n",
       "    IPython.CodeCell.config_defaults.highlight_modes['magic_text/x-c++src'] = {'reg':[/^%%cpp/]};\n",
       "    console.log(\"JupyROOT - %%cpp magic configured\");\n",
       "  }\n",
       ");\n"
      ]
     },
     "metadata": {},
     "output_type": "display_data"
    },
    {
     "name": "stdout",
     "output_type": "stream",
     "text": [
      "Welcome to JupyROOT 6.08/07\n"
     ]
    }
   ],
   "source": [
    "import ROOT\n",
    "import rootpy #hands down, a better version of PyROOT\n",
    "import rootpy.plotting as plt\n",
    "import pprint\n",
    "from DataFormats.FWLite import Events, Handle"
   ]
  },
  {
   "cell_type": "markdown",
   "metadata": {},
   "source": [
    "Then we load the input file"
   ]
  },
  {
   "cell_type": "code",
   "execution_count": 2,
   "metadata": {
    "collapsed": true
   },
   "outputs": [],
   "source": [
    "events = Events(\n",
    "    'root://xrootd-cms.infn.it//store/relval/CMSSW_9_2_7/RelValTTbarLepton_13/'\n",
    "    'MINIAODSIM/PU25ns_92X_upgrade2017_realistic_v7-v1/00000/'\n",
    "    '4E285340-6471-E711-AF0C-0025905B85F6.root'\n",
    ")"
   ]
  },
  {
   "cell_type": "markdown",
   "metadata": {},
   "source": [
    "This is just a python trick to get the first event"
   ]
  },
  {
   "cell_type": "code",
   "execution_count": 3,
   "metadata": {
    "collapsed": true
   },
   "outputs": [],
   "source": [
    "event = events.__iter__().next()"
   ]
  },
  {
   "cell_type": "markdown",
   "metadata": {},
   "source": [
    "Now, let's create a handle, like you would do in C++. If you use FWLite for your analysis, remember to create the handle __before your event loop!__ Creating a handle is quite slow in python, so better do it only once."
   ]
  },
  {
   "cell_type": "code",
   "execution_count": 4,
   "metadata": {
    "collapsed": true
   },
   "outputs": [],
   "source": [
    "handle = Handle('vector<pat::Jet>')"
   ]
  },
  {
   "cell_type": "markdown",
   "metadata": {},
   "source": [
    "Now get the jet collection"
   ]
  },
  {
   "cell_type": "code",
   "execution_count": 5,
   "metadata": {
    "collapsed": false
   },
   "outputs": [
    {
     "name": "stdout",
     "output_type": "stream",
     "text": [
      "<ROOT.vector<pat::Jet> object at 0x19158a60>\n"
     ]
    }
   ],
   "source": [
    "event.getByLabel('slimmedJets', handle)\n",
    "jets = handle.product()\n",
    "print jets"
   ]
  },
  {
   "cell_type": "markdown",
   "metadata": {},
   "source": [
    "Now that we have our vector of jets, we can check the first element and ask its methods.\n",
    "\n",
    "B-tagging outputs are called _discriminator_, so let's use python's reflection abilities to see what's inside the `pat::Jet` that we can use. Otherwise you can always use [doxygen](http://cmsdoxygen.web.cern.ch/cmsdoxygen/CMSSW_9_2_8/doc/html/d6/d00/classpat_1_1Jet.html)."
   ]
  },
  {
   "cell_type": "code",
   "execution_count": 6,
   "metadata": {
    "collapsed": false
   },
   "outputs": [
    {
     "data": {
      "text/plain": [
       "['addBDiscriminatorPair', 'bDiscriminator', 'getPairDiscri']"
      ]
     },
     "execution_count": 6,
     "metadata": {},
     "output_type": "execute_result"
    }
   ],
   "source": [
    "[i for i in dir(jets[0]) if 'disc' in i.lower()]"
   ]
  },
  {
   "cell_type": "markdown",
   "metadata": {},
   "source": [
    "As you can see there are three methods that look interesting. One for adding the discriminators and two to get them, we will use the second one."
   ]
  },
  {
   "cell_type": "code",
   "execution_count": 7,
   "metadata": {
    "collapsed": false
   },
   "outputs": [
    {
     "data": {
      "text/plain": [
       "<ROOT.vector<pair<string,float> > object at 0x191c97b0>"
      ]
     },
     "execution_count": 7,
     "metadata": {},
     "output_type": "execute_result"
    }
   ],
   "source": [
    "jets[0].getPairDiscri()"
   ]
  },
  {
   "cell_type": "markdown",
   "metadata": {},
   "source": [
    "As you can see this returns a `std::vector` containing pairs of `std::string` and `float`, corresponding to the discriminator name and its respective value. Let's check all the discriminators available:"
   ]
  },
  {
   "cell_type": "code",
   "execution_count": 8,
   "metadata": {
    "collapsed": false
   },
   "outputs": [
    {
     "data": {
      "text/plain": [
       "[('pfJetBProbabilityBJetTags', 2.5380356311798096),\n",
       " ('pfJetProbabilityBJetTags', 0.5036685466766357),\n",
       " ('pfTrackCountingHighEffBJetTags', 5.322454452514648),\n",
       " ('pfSimpleSecondaryVertexHighEffBJetTags', 2.692380428314209),\n",
       " ('pfSimpleInclusiveSecondaryVertexHighEffBJetTags', 2.311843156814575),\n",
       " ('pfCombinedSecondaryVertexV2BJetTags', 0.6874534487724304),\n",
       " ('pfCombinedInclusiveSecondaryVertexV2BJetTags', 0.4626128673553467),\n",
       " ('softPFMuonBJetTags', -inf),\n",
       " ('softPFElectronBJetTags', -inf),\n",
       " ('pfCombinedMVAV2BJetTags', -0.18671849370002747),\n",
       " ('pfCombinedCvsLJetTags', 0.1245846077799797),\n",
       " ('pfCombinedCvsBJetTags', 0.09162262827157974),\n",
       " ('pfDeepCSVJetTags:probb', 0.11195389181375504),\n",
       " ('pfDeepCSVJetTags:probc', 0.15623649954795837),\n",
       " ('pfDeepCSVJetTags:probudsg', 0.7309403419494629),\n",
       " ('pfDeepCSVJetTags:probbb', 0.0008692730916664004)]"
      ]
     },
     "execution_count": 8,
     "metadata": {},
     "output_type": "execute_result"
    }
   ],
   "source": [
    "[(i.first, i.second) for i in jets[0].getPairDiscri()]"
   ]
  },
  {
   "cell_type": "code",
   "execution_count": 9,
   "metadata": {
    "collapsed": false
   },
   "outputs": [
    {
     "name": "stdout",
     "output_type": "stream",
     "text": [
      "16\n",
      "16\n",
      "16\n"
     ]
    }
   ],
   "source": [
    "print jets[0].getPairDiscri().size()\n",
    "print len(jets[0].getPairDiscri())\n",
    "print len([i.first for i in jets[0].getPairDiscri()]\n",
    "         )"
   ]
  },
  {
   "cell_type": "markdown",
   "metadata": {},
   "source": [
    "## Part II - A few comments on event loops\n",
    "\n",
    "Let's run a simple event loop counting the events:"
   ]
  },
  {
   "cell_type": "code",
   "execution_count": 11,
   "metadata": {
    "collapsed": false
   },
   "outputs": [
    {
     "name": "stdout",
     "output_type": "stream",
     "text": [
      "1\n",
      "2\n",
      "34\n",
      "5\n",
      "6\n",
      "7\n"
     ]
    }
   ],
   "source": [
    "for foo in [1,2,34,5,6,7]:\n",
    "    print foo"
   ]
  },
  {
   "cell_type": "code",
   "execution_count": 13,
   "metadata": {
    "collapsed": false
   },
   "outputs": [
    {
     "name": "stdout",
     "output_type": "stream",
     "text": [
      "6500\n"
     ]
    }
   ],
   "source": [
    "counter = 0\n",
    "for evt in events:\n",
    "    counter += 1\n",
    "print counter"
   ]
  },
  {
   "cell_type": "markdown",
   "metadata": {},
   "source": [
    "OK, pretty standard, right? Now, let's try to do it __again__"
   ]
  },
  {
   "cell_type": "code",
   "execution_count": 14,
   "metadata": {
    "collapsed": false
   },
   "outputs": [
    {
     "name": "stdout",
     "output_type": "stream",
     "text": [
      "0\n"
     ]
    }
   ],
   "source": [
    "counter = 0\n",
    "for evt in events:\n",
    "    counter += 1\n",
    "print counter"
   ]
  },
  {
   "cell_type": "markdown",
   "metadata": {},
   "source": [
    "#### What happened?\n",
    "To save memory the `FWLite.Events` class behaves like a generator, hence once you loop over one entry, that entry is forgotten and you cannot re-run over it, unless you re-load the file completely. Keep that in mind when playing with it!\n",
    "\n",
    "Let's reload the file, you can always re-execute this cell how many times you need to reset this feature and run on the full set of events"
   ]
  },
  {
   "cell_type": "code",
   "execution_count": 19,
   "metadata": {
    "collapsed": true
   },
   "outputs": [],
   "source": [
    "events = Events(\n",
    "    'root://xrootd-cms.infn.it//store/relval/CMSSW_9_2_7/RelValTTbarLepton_13/'\n",
    "    'MINIAODSIM/PU25ns_92X_upgrade2017_realistic_v7-v1/00000/'\n",
    "    '4E285340-6471-E711-AF0C-0025905B85F6.root'\n",
    ")"
   ]
  },
  {
   "cell_type": "markdown",
   "metadata": {},
   "source": [
    "## Part III - plotting the b-tagging discriminator\n",
    "Now, let's plot few discriminator outputs for jets with $p_T > 20$ GeV and $|\\eta| < 2.4$"
   ]
  },
  {
   "cell_type": "code",
   "execution_count": 20,
   "metadata": {
    "collapsed": false
   },
   "outputs": [],
   "source": [
    "histograms = {\n",
    "    'CSV' : plt.Hist(100,0,1.1),\n",
    "    'deepCSV' : plt.Hist(100,0,1.1),\n",
    "}"
   ]
  },
  {
   "cell_type": "code",
   "execution_count": 21,
   "metadata": {
    "collapsed": false
   },
   "outputs": [
    {
     "name": "stdout",
     "output_type": "stream",
     "text": [
      "86.1502075195\n",
      "0.555548012257\n",
      "0.831998407841\n"
     ]
    }
   ],
   "source": [
    "print jets[0].pt()\n",
    "print jets[0].eta()\n",
    "print jets[0].bDiscriminator('pfCombinedInclusiveSecondaryVertexV2BJetTags')\n",
    "for evt in events:\n",
    "    evt.getByLabel('slimmedJets', handle)\n",
    "    jets = handle.product()\n",
    "    for jet in jets:\n",
    "        if jet.pt() > 20 and abs(jet.eta()) < 2.4:\n",
    "            histograms['CSV'].fill(\n",
    "                jet.bDiscriminator('pfCombinedInclusiveSecondaryVertexV2BJetTags')\n",
    "            )\n",
    "            histograms['deepCSV'].fill(\n",
    "                jet.bDiscriminator('pfDeepCSVJetTags:probb') +\n",
    "                jet.bDiscriminator('pfDeepCSVJetTags:probbb')\n",
    "            )\n",
    "####### YOUR CODE HERE! ######\n",
    "# To fill the histogram\n",
    "#histograms['CSV'].fill(...)\n",
    "#Remember, DeepCSV needs both 'pfDeepCSVJetTags:probb' + 'pfDeepCSVJetTags:probbb'"
   ]
  },
  {
   "cell_type": "markdown",
   "metadata": {},
   "source": [
    "Now, let's plot it! (some cosmetics first, though)"
   ]
  },
  {
   "cell_type": "code",
   "execution_count": 22,
   "metadata": {
    "collapsed": false
   },
   "outputs": [
    {
     "data": {
      "image/png": "[encoded data removed]",
      "text/plain": [
       "<IPython.core.display.Image object>"
      ]
     },
     "metadata": {},
     "output_type": "display_data"
    }
   ],
   "source": [
    "histograms['CSV'].markercolor = 'blue'\n",
    "histograms['deepCSV'].markercolor = 'red'\n",
    "canvas = plt.Canvas(600, 600)\n",
    "histograms['CSV'].Draw()\n",
    "histograms['deepCSV'].Draw('same')\n",
    "canvas.Draw() #You need this to display inline"
   ]
  },
  {
   "cell_type": "markdown",
   "metadata": {},
   "source": [
    "## Part IV - FatJet and sub-jet b-tagging\n",
    "\n",
    "Subjet b tagging is in many respects similar to the b tagging of the \"standard\" ak4 jets. However, there are some important differences to consider. Since subjets can get close to one another, using a fixed-size track association cone could lead to double-counting of tracks if they are associated to more than one subjet. To avoid such track sharing, the explicit jet-track association is used for subjets where tracks linked to the charged PF jet constituents are associated to the subjet. Similarly, a fixed-size association cone can lead to ambiguities in the secondary vertex and jet flavor assignment for subjets. This problem is resolved by ghost-associating secondary vertices and generator level hadrons/partons to subjets (see [here](https://twiki.cern.ch/twiki/bin/view/CMSPublic/SWGuideBTagMCTools) for more details). An important thing to keep in mind is that the ghost association, in addition to the subjet collection of, also requires collections of original and groomed fat jets to be present since the \"ghost\" constituents are first associated to fat jets and then to subjets of the groomed fat jets.\n",
    "\n",
    "A version of fat-jets and sub-jets are already stored in the `miniAOD` event content, clustered with the `AK8` algorithm (anti-$k_T$ with a 0.8 cone). \n",
    "  - How many discriminators you see available for the FatJet? Is there any difference from the the ones for AK4?\n",
    "  - Can you plot the `CSVv2` and `DeepCSV` discriminator output for the Fat-Jets and their sub-jets?\n",
    "      - __Pro:__ Using `hadronFlavour()` to get the different flavour identification (5: b jet, 4: c jet, 0: light) can you separate the components and plot them in a stacked histogram?\n",
    "\n",
    "__Hint:__ use [doxygen](http://cmsdoxygen.web.cern.ch/cmsdoxygen/CMSSW_9_2_8/doc/html/d6/d00/classpat_1_1Jet.html) and the interactive nature of python to test yout commands on a single event to test the commands before running the full event loop"
   ]
  },
  {
   "cell_type": "code",
   "execution_count": 9,
   "metadata": {
    "collapsed": false
   },
   "outputs": [],
   "source": [
    "events = Events(\n",
    "    'root://xrootd-cms.infn.it//store/relval/CMSSW_9_2_7/RelValTTbarLepton_13/'\n",
    "    'MINIAODSIM/PU25ns_92X_upgrade2017_realistic_v7-v1/00000/'\n",
    "    '4E285340-6471-E711-AF0C-0025905B85F6.root'\n",
    ")\n",
    "#\n",
    "# Your code here, this time it will take a while\n",
    "#\n",
    "event = events.__iter__().next()"
   ]
  },
  {
   "cell_type": "code",
   "execution_count": 26,
   "metadata": {
    "collapsed": false
   },
   "outputs": [
    {
     "data": {
      "text/plain": [
       "['__del__',\n",
       " '__doc__',\n",
       " '__init__',\n",
       " '__iter__',\n",
       " '__module__',\n",
       " '_createFWLiteEvent',\n",
       " '_event',\n",
       " '_eventCounts',\n",
       " '_filenames',\n",
       " '_forceEvent',\n",
       " '_maxEvents',\n",
       " '_mode',\n",
       " '_next',\n",
       " '_parseOptions',\n",
       " '_secondaryFilenames',\n",
       " '_toBegin',\n",
       " '_toBeginCode',\n",
       " '_veryFirstTime',\n",
       " 'eventAuxiliary',\n",
       " 'fileIndex',\n",
       " 'fileIndicies',\n",
       " 'getByLabel',\n",
       " 'object',\n",
       " 'secondaryFileIndex',\n",
       " 'size',\n",
       " 'to',\n",
       " 'toBegin']"
      ]
     },
     "execution_count": 26,
     "metadata": {},
     "output_type": "execute_result"
    }
   ],
   "source": [
    "dir(event)"
   ]
  },
  {
   "cell_type": "code",
   "execution_count": 10,
   "metadata": {
    "collapsed": true
   },
   "outputs": [],
   "source": [
    "handle_ak4 = Handle('vector<pat::Jet>')\n",
    "handle_ak8 = Handle('vector<pat::Jet>')\n"
   ]
  },
  {
   "cell_type": "code",
   "execution_count": 11,
   "metadata": {
    "collapsed": true
   },
   "outputs": [],
   "source": [
    "event.getByLabel('slimmedJets', handle_ak4)\n",
    "event.getByLabel('slimmedJetsAK8', handle_ak8)\n",
    "jets_ak4 = handle_ak4.product()\n",
    "jets_ak8 = handle_ak8.product()"
   ]
  },
  {
   "cell_type": "code",
   "execution_count": 13,
   "metadata": {
    "collapsed": false
   },
   "outputs": [
    {
     "name": "stdout",
     "output_type": "stream",
     "text": [
      "16\n",
      "17\n"
     ]
    }
   ],
   "source": [
    "labels_ak4 = [i.first for i in jets_ak4[0].getPairDiscri()]\n",
    "labels_ak8 = [i.first for i in jets_ak8[0].getPairDiscri()]\n",
    "print len(labels_ak4)\n",
    "print len(labels_ak8)"
   ]
  },
  {
   "cell_type": "code",
   "execution_count": 14,
   "metadata": {
    "collapsed": false
   },
   "outputs": [
    {
     "data": {
      "text/plain": [
       "{'pfBoostedDoubleSecondaryVertexAK8BJetTags'}"
      ]
     },
     "execution_count": 14,
     "metadata": {},
     "output_type": "execute_result"
    }
   ],
   "source": [
    "set(labels_ak8) - set(labels_ak4)"
   ]
  },
  {
   "cell_type": "code",
   "execution_count": 15,
   "metadata": {
    "collapsed": false
   },
   "outputs": [
    {
     "data": {
      "text/plain": [
       "set()"
      ]
     },
     "execution_count": 15,
     "metadata": {},
     "output_type": "execute_result"
    }
   ],
   "source": [
    "set(labels_ak4) - set(labels_ak8)"
   ]
  },
  {
   "cell_type": "code",
   "execution_count": 16,
   "metadata": {
    "collapsed": false
   },
   "outputs": [
    {
     "data": {
      "text/plain": [
       "['addSubjets',\n",
       " 'hasSubjets',\n",
       " 'nSubjetCollections',\n",
       " 'subjetCollectionNames',\n",
       " 'subjets']"
      ]
     },
     "execution_count": 16,
     "metadata": {},
     "output_type": "execute_result"
    }
   ],
   "source": [
    "[i for i in dir(jets_ak8[0]) if 'subj' in i.lower()]"
   ]
  },
  {
   "cell_type": "code",
   "execution_count": 18,
   "metadata": {
    "collapsed": false
   },
   "outputs": [
    {
     "name": "stdout",
     "output_type": "stream",
     "text": [
      "1\n",
      "['SoftDropPuppi']\n"
     ]
    }
   ],
   "source": [
    "jet = jets_ak8[0]\n",
    "#print jet.hasSubjets()\n",
    "print jet.nSubjetCollections()\n",
    "print [i for i in jet.subjetCollectionNames()]"
   ]
  },
  {
   "cell_type": "code",
   "execution_count": 19,
   "metadata": {
    "collapsed": false
   },
   "outputs": [
    {
     "data": {
      "text/plain": [
       "True"
      ]
     },
     "execution_count": 19,
     "metadata": {},
     "output_type": "execute_result"
    }
   ],
   "source": [
    "jet.hasSubjets('SoftDropPuppi')"
   ]
  },
  {
   "cell_type": "code",
   "execution_count": 20,
   "metadata": {
    "collapsed": false
   },
   "outputs": [
    {
     "data": {
      "text/plain": [
       "'const vector<edm::Ptr<pat::Jet> >& pat::Jet::subjets(unsigned int index = 0)\\nconst vector<edm::Ptr<pat::Jet> >& pat::Jet::subjets(string label)'"
      ]
     },
     "execution_count": 20,
     "metadata": {},
     "output_type": "execute_result"
    }
   ],
   "source": [
    "jet.subjets.__doc__"
   ]
  },
  {
   "cell_type": "code",
   "execution_count": 22,
   "metadata": {
    "collapsed": false
   },
   "outputs": [
    {
     "data": {
      "text/plain": [
       "<ROOT.vector<edm::Ptr<pat::Jet> > object at 0x1ab2a560>"
      ]
     },
     "execution_count": 22,
     "metadata": {},
     "output_type": "execute_result"
    }
   ],
   "source": [
    "subjets = jet.subjets()\n",
    "subjets"
   ]
  },
  {
   "cell_type": "code",
   "execution_count": 25,
   "metadata": {
    "collapsed": false
   },
   "outputs": [
    {
     "data": {
      "text/plain": [
       "<ROOT.pat::Jet object at 0x1d5a9eb0>"
      ]
     },
     "execution_count": 25,
     "metadata": {},
     "output_type": "execute_result"
    }
   ],
   "source": [
    "subjets[0].get()"
   ]
  },
  {
   "cell_type": "code",
   "execution_count": 27,
   "metadata": {
    "collapsed": false
   },
   "outputs": [
    {
     "data": {
      "text/plain": [
       "['pfDeepCSVJetTags:probb',\n",
       " 'pfDeepCSVJetTags:probbb',\n",
       " 'pfCombinedInclusiveSecondaryVertexV2BJetTags',\n",
       " 'pfCombinedMVAV2BJetTags']"
      ]
     },
     "execution_count": 27,
     "metadata": {},
     "output_type": "execute_result"
    }
   ],
   "source": [
    "[i.first for i in subjets[0].get().getPairDiscri()]"
   ]
  },
  {
   "cell_type": "code",
   "execution_count": 26,
   "metadata": {
    "collapsed": false
   },
   "outputs": [],
   "source": [
    "histograms = {\n",
    "    'CSV' : plt.Hist(100,0,1.1),\n",
    "    'deepCSV' : plt.Hist(100,0,1.1),\n",
    "}"
   ]
  },
  {
   "cell_type": "code",
   "execution_count": 28,
   "metadata": {
    "collapsed": true
   },
   "outputs": [],
   "source": [
    "for evt in events:\n",
    "    evt.getByLabel('slimmedJetsAK8', handle_ak8)\n",
    "    fatjets = handle_ak8.product()\n",
    "    for fatjet in fatjets:\n",
    "        for subjet in fatjet.subjets():\n",
    "            histograms['CSV'].fill(\n",
    "                subjet.bDiscriminator('pfCombinedInclusiveSecondaryVertexV2BJetTags')\n",
    "            )\n",
    "            histograms['deepCSV'].fill(\n",
    "                subjet.bDiscriminator('pfDeepCSVJetTags:probbb') +\n",
    "                subjet.bDiscriminator('pfDeepCSVJetTags:probb')\n",
    "            )\n",
    "        "
   ]
  },
  {
   "cell_type": "code",
   "execution_count": 29,
   "metadata": {
    "collapsed": false
   },
   "outputs": [
    {
     "data": {
      "image/png": "[encoded data removed]",
      "text/plain": [
       "<IPython.core.display.Image object>"
      ]
     },
     "metadata": {},
     "output_type": "display_data"
    }
   ],
   "source": [
    "histograms['CSV'].markercolor = 'blue'\n",
    "histograms['deepCSV'].markercolor = 'red'\n",
    "canvas = plt.Canvas(600, 600)\n",
    "histograms['CSV'].Draw()\n",
    "histograms['deepCSV'].Draw('same')\n",
    "canvas.Draw() #You need this to display inline"
   ]
  },
  {
   "cell_type": "code",
   "execution_count": null,
   "metadata": {
    "collapsed": true
   },
   "outputs": [],
   "source": []
  }
 ],
 "metadata": {
  "kernelspec": {
   "display_name": "Python 2",
   "language": "python",
   "name": "python2"
  },
  "language_info": {
   "codemirror_mode": {
    "name": "ipython",
    "version": 2
   },
   "file_extension": ".py",
   "mimetype": "text/x-python",
   "name": "python",
   "nbconvert_exporter": "python",
   "pygments_lexer": "ipython2",
   "version": "2.7.11"
  }
 },
 "nbformat": 4,
 "nbformat_minor": 2
}
